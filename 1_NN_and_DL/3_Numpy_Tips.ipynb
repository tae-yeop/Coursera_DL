{
 "cells": [
  {
   "cell_type": "code",
   "execution_count": 1,
   "metadata": {},
   "outputs": [],
   "source": [
    "import numpy as np\n",
    "\n",
    "a = np.random.randn(5)"
   ]
  },
  {
   "cell_type": "code",
   "execution_count": 2,
   "metadata": {},
   "outputs": [
    {
     "name": "stdout",
     "output_type": "stream",
     "text": [
      "[-1.40892271  1.52451525 -0.30358666  1.63268934  1.13419168]\n"
     ]
    }
   ],
   "source": [
    "print(a)"
   ]
  },
  {
   "cell_type": "code",
   "execution_count": 3,
   "metadata": {},
   "outputs": [
    {
     "name": "stdout",
     "output_type": "stream",
     "text": [
      "(5,)\n"
     ]
    }
   ],
   "source": [
    "# Rank 1 array : Neither a row vector or a column vector\n",
    "print(a.shape)"
   ]
  },
  {
   "cell_type": "code",
   "execution_count": 4,
   "metadata": {},
   "outputs": [
    {
     "name": "stdout",
     "output_type": "stream",
     "text": [
      "[-1.40892271  1.52451525 -0.30358666  1.63268934  1.13419168]\n"
     ]
    }
   ],
   "source": [
    "print(a.T)"
   ]
  },
  {
   "cell_type": "code",
   "execution_count": 5,
   "metadata": {},
   "outputs": [
    {
     "name": "stdout",
     "output_type": "stream",
     "text": [
      "8.35344007722856\n"
     ]
    }
   ],
   "source": [
    "print(np.dot(a, a.T))"
   ]
  },
  {
   "cell_type": "code",
   "execution_count": 6,
   "metadata": {},
   "outputs": [],
   "source": [
    "a = np.random.randn(5,1)"
   ]
  },
  {
   "cell_type": "code",
   "execution_count": 7,
   "metadata": {},
   "outputs": [
    {
     "name": "stdout",
     "output_type": "stream",
     "text": [
      "[[-0.73211465]\n",
      " [ 0.32950495]\n",
      " [-1.24860564]\n",
      " [-0.06753108]\n",
      " [-0.60547137]]\n"
     ]
    }
   ],
   "source": [
    "print(a)"
   ]
  },
  {
   "cell_type": "code",
   "execution_count": 8,
   "metadata": {},
   "outputs": [
    {
     "name": "stdout",
     "output_type": "stream",
     "text": [
      "[[-0.73211465  0.32950495 -1.24860564 -0.06753108 -0.60547137]]\n"
     ]
    }
   ],
   "source": [
    "print(a.T)"
   ]
  },
  {
   "cell_type": "code",
   "execution_count": 9,
   "metadata": {},
   "outputs": [
    {
     "name": "stdout",
     "output_type": "stream",
     "text": [
      "[[ 0.53599186 -0.2412354   0.91412248  0.04944049  0.44327446]\n",
      " [-0.2412354   0.10857351 -0.41142174 -0.02225182 -0.19950581]\n",
      " [ 0.91412248 -0.41142174  1.55901605  0.08431969  0.75599496]\n",
      " [ 0.04944049 -0.02225182  0.08431969  0.00456045  0.04088813]\n",
      " [ 0.44327446 -0.19950581  0.75599496  0.04088813  0.36659557]]\n"
     ]
    }
   ],
   "source": [
    "# outer product\n",
    "print(np.dot(a, a.T))"
   ]
  },
  {
   "cell_type": "code",
   "execution_count": 10,
   "metadata": {},
   "outputs": [
    {
     "name": "stdout",
     "output_type": "stream",
     "text": [
      "[[[0.48419104 0.28690236 0.69684334 0.32706605]\n",
      "  [0.71676353 0.07263541 0.78836733 0.44294709]\n",
      "  [0.19867938 0.00514301 0.25889219 0.48731449]]\n",
      "\n",
      " [[0.66754605 0.22501569 0.35016603 0.02570861]\n",
      "  [0.05597642 0.86654774 0.08765315 0.99891757]\n",
      "  [0.61386122 0.34226442 0.57409908 0.74823701]]]\n"
     ]
    }
   ],
   "source": [
    "b = np.random.rand(2,3,4)\n",
    "print(b)"
   ]
  },
  {
   "cell_type": "code",
   "execution_count": 11,
   "metadata": {},
   "outputs": [
    {
     "data": {
      "text/plain": [
       "array([[[0.48419104, 0.28690236, 0.69684334, 0.32706605],\n",
       "        [0.71676353, 0.07263541, 0.78836733, 0.44294709]],\n",
       "\n",
       "       [[0.19867938, 0.00514301, 0.25889219, 0.48731449],\n",
       "        [0.66754605, 0.22501569, 0.35016603, 0.02570861]],\n",
       "\n",
       "       [[0.05597642, 0.86654774, 0.08765315, 0.99891757],\n",
       "        [0.61386122, 0.34226442, 0.57409908, 0.74823701]]])"
      ]
     },
     "execution_count": 11,
     "metadata": {},
     "output_type": "execute_result"
    }
   ],
   "source": [
    "b.reshape(3,2,4)"
   ]
  }
 ],
 "metadata": {
  "kernelspec": {
   "display_name": "Python 3",
   "language": "python",
   "name": "python3"
  },
  "language_info": {
   "codemirror_mode": {
    "name": "ipython",
    "version": 3
   },
   "file_extension": ".py",
   "mimetype": "text/x-python",
   "name": "python",
   "nbconvert_exporter": "python",
   "pygments_lexer": "ipython3",
   "version": "3.6.8"
  }
 },
 "nbformat": 4,
 "nbformat_minor": 2
}
